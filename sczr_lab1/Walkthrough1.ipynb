{
 "cells": [
  {
   "cell_type": "markdown",
   "metadata": {},
   "source": [
    "# Laboratorium 1 - Walkthrough"
   ]
  },
  {
   "cell_type": "code",
   "execution_count": 1,
   "metadata": {},
   "outputs": [
    {
     "name": "stdout",
     "output_type": "stream",
     "text": [
      "/home/skalermo/SCZR/sczr_lab1\r\n"
     ]
    }
   ],
   "source": [
    "!pwd"
   ]
  },
  {
   "cell_type": "markdown",
   "metadata": {},
   "source": [
    "## Buildroot"
   ]
  },
  {
   "cell_type": "markdown",
   "metadata": {},
   "source": [
    "**Ściągamy Buildroot'a i rozpakowujemy go:**"
   ]
  },
  {
   "cell_type": "code",
   "execution_count": null,
   "metadata": {},
   "outputs": [],
   "source": [
    "!wget https://buildroot.org/downloads/buildroot-2019.08.1.tar.bz2\n",
    "!tar -xjf buildroot-2019.08.1.tar.bz2    "
   ]
  },
  {
   "cell_type": "code",
   "execution_count": 3,
   "metadata": {},
   "outputs": [
    {
     "name": "stdout",
     "output_type": "stream",
     "text": [
      "buildroot-2019.08.1  buildroot-2019.08.1.tar.bz2  Walkthrough.ipynb\r\n"
     ]
    }
   ],
   "source": [
    "!ls"
   ]
  },
  {
   "cell_type": "code",
   "execution_count": 4,
   "metadata": {},
   "outputs": [
    {
     "name": "stdout",
     "output_type": "stream",
     "text": [
      "/home/skalermo/SCZR/sczr_lab1/buildroot-2019.08.1\n"
     ]
    }
   ],
   "source": [
    "cd buildroot-2019.08.1/"
   ]
  },
  {
   "cell_type": "markdown",
   "metadata": {},
   "source": [
    "**Wybieramy poniższa konfigurację:**\n",
    "\n",
    "(inne nie rozpatrywane na laboratoriach)"
   ]
  },
  {
   "cell_type": "code",
   "execution_count": null,
   "metadata": {},
   "outputs": [],
   "source": [
    "!make qemu_aarch64_virt_defconfig"
   ]
  },
  {
   "cell_type": "markdown",
   "metadata": {},
   "source": [
    "**Pakiety które chcemy zainstalować oraz interesujące nas opcje wybieramy w pojawiającym się menu:**"
   ]
  },
  {
   "cell_type": "code",
   "execution_count": null,
   "metadata": {},
   "outputs": [],
   "source": [
    "!make menuconfig"
   ]
  },
  {
   "cell_type": "markdown",
   "metadata": {},
   "source": [
    "**Upewnijcie się, że okienko terminalu jest wystarczająco duże:**\n",
    "\n",
    "![Small_display](screenshots/small_display.png)"
   ]
  },
  {
   "cell_type": "markdown",
   "metadata": {},
   "source": [
    "**Musimy odnaleźć i zaznaczyć następujące opcję:**\n",
    "- Toolchain -> Toolchain type -> External toolchain\n",
    "- Target packages -> Show packages that are also provided by busybox\n",
    "- System configuration -> System hostname *(nazwa systemu)*\n",
    "- Target packages -> Networking applications -> ntp\n",
    "- Target packages -> Networking applications -> ntpd\n",
    "- Target packages -> Networking applications -> ntpdate *(na wszelki wypadek)*\n",
    "- Target packages -> Networking applications -> netcat-openbsd *(nie jest potrzebne jeśli używac soketów do komunikacji wątków)*\n",
    "- Filesystem images -> cpio the root filesystem\n",
    "- Filesystem images -> ext2/3/4 root filesystem *(odznaczyć)*\n",
    "- Filesystem images -> initial RAM filesystem linked into linux kernel\n",
    "\n",
    "Na koniec klikamy 'Exit' na dole, zaznaczamy 'Yes' by zachować nową konfigurację."
   ]
  },
  {
   "cell_type": "markdown",
   "metadata": {},
   "source": [
    "**System gotowy do kompilacji:**\n",
    "\n",
    "kompilacja potrwa długo: zajęło mi to około godziny na moim laptopie."
   ]
  },
  {
   "cell_type": "code",
   "execution_count": 8,
   "metadata": {},
   "outputs": [
    {
     "name": "stdout",
     "output_type": "stream",
     "text": [
      "/bin/make -j1 O=/home/skalermo/SCZR/sczr_lab1/buildroot-2019.08.1/output HOSTCC=\"/bin/gcc\" HOSTCXX=\"/bin/g++\" syncconfig\n",
      "make[1]: Entering directory '/home/skalermo/SCZR/sczr_lab1/buildroot-2019.08.1'\n",
      "make[1]: Leaving directory '/home/skalermo/SCZR/sczr_lab1/buildroot-2019.08.1'\n",
      "which: no patch in (/bin:/usr/bin:/usr/local/bin:/usr/local/sbin:/usr/local/bin:/usr/bin:/usr/lib/jvm/default/bin:/usr/bin/site_perl:/usr/bin/vendor_perl:/usr/bin/core_perl)\n",
      "You must install 'patch' on your build machine\n",
      "which: no cpio in (/bin:/usr/bin:/usr/local/bin:/usr/local/sbin:/usr/local/bin:/usr/bin:/usr/lib/jvm/default/bin:/usr/bin/site_perl:/usr/bin/vendor_perl:/usr/bin/core_perl)\n",
      "You must install 'cpio' on your build machine\n",
      "which: no rsync in (/bin:/usr/bin:/usr/local/bin:/usr/local/sbin:/usr/local/bin:/usr/bin:/usr/lib/jvm/default/bin:/usr/bin/site_perl:/usr/bin/vendor_perl:/usr/bin/core_perl)\n",
      "You must install 'rsync' on your build machine\n",
      "which: no bc in (/bin:/usr/bin:/usr/local/bin:/usr/local/sbin:/usr/local/bin:/usr/bin:/usr/lib/jvm/default/bin:/usr/bin/site_perl:/usr/bin/vendor_perl:/usr/bin/core_perl)\n",
      "You must install 'bc' on your build machine\n",
      "make: *** [support/dependencies/dependencies.mk:27: dependencies] Error 1\n"
     ]
    }
   ],
   "source": [
    "!make"
   ]
  },
  {
   "cell_type": "markdown",
   "metadata": {},
   "source": [
    "Jak widać brakuje pakietów:\n",
    "- patch\n",
    "- cpio\n",
    "- rsync\n",
    "- bc\n",
    "\n",
    "Po zainstalowaniu tych pakietów kompilacja powinna przejść bez błędów. "
   ]
  },
  {
   "cell_type": "markdown",
   "metadata": {},
   "source": [
    "**Ściągamy szablon aplikacji ze strony przedmiotu:**\n",
    "\n",
    "https://studia3.elka.pw.edu.pl/f-pl/19Z/103D-INSID-ISP-SCZR/priv/cw1%5Fprzyklady.tar.gz"
   ]
  },
  {
   "cell_type": "code",
   "execution_count": 4,
   "metadata": {},
   "outputs": [],
   "source": [
    "!tar -xzf cw1_przyklady.tar.gz"
   ]
  },
  {
   "cell_type": "code",
   "execution_count": 6,
   "metadata": {},
   "outputs": [
    {
     "name": "stdout",
     "output_type": "stream",
     "text": [
      "BR  buildroot-2019.08.1  cw1_przyklady.tar.gz  OWRT  Walkthrough1.ipynb\r\n"
     ]
    }
   ],
   "source": [
    "!ls"
   ]
  },
  {
   "cell_type": "markdown",
   "metadata": {},
   "source": [
    "**Przenosimy skrypty do uruchamiania systemu do folderu buildroot aby ścieżka w nich się zgadzała:**\n",
    "\n",
    "(albo zmieniamy ścieżkę wewnątrz skryptu)"
   ]
  },
  {
   "cell_type": "code",
   "execution_count": 7,
   "metadata": {},
   "outputs": [],
   "source": [
    "!mv BR/rv* buildroot-2019.08.1/"
   ]
  },
  {
   "cell_type": "markdown",
   "metadata": {},
   "source": [
    "**Potrzebujemy zainstalować *qemu* i wszystkie niezbędne pakiety dla pracy *qemu* z *aarch64***\n",
    "\n",
    "Dla archlinuxa to są:\n",
    "- qemu\n",
    "- qemu-arch-extra"
   ]
  },
  {
   "cell_type": "markdown",
   "metadata": {},
   "source": [
    "Po uruchomieniu skryptu (np. ./rv_irfs) system powinien dać się uruchomić."
   ]
  },
  {
   "cell_type": "markdown",
   "metadata": {},
   "source": [
    "![Configured_buildroot](screenshots/configured_buildroot.png)\n",
    "\n",
    "Polecenia `date` i `ping` potwierdzą że pierwsze zadanie jest wykonane. (zdarza się, że usługi systemowe odpowiadające za czas systemowy oraz za połączenie z siecią nie zdążają się włączyć, w tym przypadku należy trochę poczekać)"
   ]
  },
  {
   "cell_type": "code",
   "execution_count": null,
   "metadata": {},
   "outputs": [],
   "source": []
  }
 ],
 "metadata": {
  "kernelspec": {
   "display_name": "Python 3",
   "language": "python",
   "name": "python3"
  },
  "language_info": {
   "codemirror_mode": {
    "name": "ipython",
    "version": 3
   },
   "file_extension": ".py",
   "mimetype": "text/x-python",
   "name": "python",
   "nbconvert_exporter": "python",
   "pygments_lexer": "ipython3",
   "version": "3.8.1"
  }
 },
 "nbformat": 4,
 "nbformat_minor": 2
}
